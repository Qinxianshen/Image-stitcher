{
 "cells": [
  {
   "cell_type": "code",
   "execution_count": null,
   "metadata": {},
   "outputs": [],
   "source": [
    "%matplotlib inline\n",
    "from keras.models import Sequential, Model\n",
    "from keras.layers import GlobalAveragePooling2D, Dense, Flatten, Dropout, ELU, BatchNormalization, Lambda, merge, MaxPooling2D, Input, Activation\n",
    "from keras.layers.convolutional import Conv2D, Cropping2D\n",
    "from keras.utils import plot_model\n",
    "from keras.optimizers import Adam,SGD\n",
    "from keras.callbacks import Callback, RemoteMonitor\n",
    "import keras.backend as K\n",
    "\n",
    "from glob import glob\n",
    "from matplotlib import pyplot as plt\n",
    "from numpy.linalg import inv\n",
    "import cv2\n",
    "import random\n",
    "import numpy as np\n",
    "import time"
   ]
  },
  {
   "cell_type": "code",
   "execution_count": null,
   "metadata": {},
   "outputs": [],
   "source": []
  }
 ],
 "metadata": {
  "kernelspec": {
   "display_name": "Python tensorflow-gpu",
   "language": "python",
   "name": "tensorflow-gpu"
  }
 },
 "nbformat": 4,
 "nbformat_minor": 2
}
